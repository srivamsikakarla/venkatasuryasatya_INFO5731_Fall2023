{
  "cells": [
    {
      "cell_type": "markdown",
      "metadata": {
        "id": "view-in-github",
        "colab_type": "text"
      },
      "source": [
        "<a href=\"https://colab.research.google.com/github/srivamsikakarla/venkatasuryasatya_INFO5731_Fall2023/blob/main/Kakarla_SriVamsi_exercise1_08_30_2023.ipynb\" target=\"_parent\"><img src=\"https://colab.research.google.com/assets/colab-badge.svg\" alt=\"Open In Colab\"/></a>"
      ]
    },
    {
      "cell_type": "markdown",
      "metadata": {
        "id": "DymRJbxDBCnf"
      },
      "source": [
        "# **The first In-class-exercise (08/30/2023, 40 points in total)**\n",
        "This exercise is due tomorrow 08/31/203 11:59 PM.\n"
      ]
    },
    {
      "cell_type": "markdown",
      "metadata": {
        "id": "FBKvD6O_TY6e"
      },
      "source": [
        "(1) Write a Python program to calculate the area of a rectangle using user-input length and width."
      ]
    },
    {
      "cell_type": "code",
      "execution_count": null,
      "metadata": {
        "id": "cikVKDXdTbzE",
        "outputId": "7e7e6823-9b80-420e-c4db-0f3dd36cd997"
      },
      "outputs": [
        {
          "name": "stdout",
          "output_type": "stream",
          "text": [
            "Enter the length of the rectangle: 5\n",
            "Enter the width of the rectangle: 2\n",
            "The area of the rectangle is: 10.0\n"
          ]
        }
      ],
      "source": [
        "# write your answer here\n",
        "\n",
        "# Get user input for length and width\n",
        "length = float(input(\"Enter the length of the rectangle: \"))\n",
        "width = float(input(\"Enter the width of the rectangle: \"))\n",
        "\n",
        "# Calculate the area\n",
        "area = length * width\n",
        "\n",
        "# Display the result\n",
        "print(\"The area of the rectangle is:\", area)\n"
      ]
    },
    {
      "cell_type": "markdown",
      "metadata": {
        "id": "E9RqrlwdTfvl"
      },
      "source": [
        "(2) Create a program that takes two numbers from the user and swaps their values without using a temporary variable."
      ]
    },
    {
      "cell_type": "code",
      "execution_count": null,
      "metadata": {
        "id": "4XvRknixTh1g",
        "outputId": "0e69e294-a90b-416e-b4bc-35aa93109a48"
      },
      "outputs": [
        {
          "name": "stdout",
          "output_type": "stream",
          "text": [
            "Enter the first number: 5\n",
            "Enter the second number: 3\n",
            "After swapping:\n",
            "First number: 3.0\n",
            "Second number: 5.0\n"
          ]
        }
      ],
      "source": [
        "# write your answer here\n",
        "\n",
        "# Get user input for two numbers\n",
        "num1 = float(input(\"Enter the first number: \"))\n",
        "num2 = float(input(\"Enter the second number: \"))\n",
        "\n",
        "# Swapping without temporary variable\n",
        "num1 = num1 + num2\n",
        "num2 = num1 - num2\n",
        "num1 = num1 - num2\n",
        "\n",
        "# Display the swapped values\n",
        "print(\"After swapping:\")\n",
        "print(\"First number:\", num1)\n",
        "print(\"Second number:\", num2)\n"
      ]
    },
    {
      "cell_type": "markdown",
      "metadata": {
        "id": "03jb4GZsBkBS"
      },
      "source": [
        "(3) Write a Python program to calculate the length of a string."
      ]
    },
    {
      "cell_type": "code",
      "execution_count": null,
      "metadata": {
        "id": "YaGLbSHHB8Ej",
        "outputId": "5432e409-38d7-47ec-d77c-454a9ed22b4c"
      },
      "outputs": [
        {
          "name": "stdout",
          "output_type": "stream",
          "text": [
            "Enter a string: Hello World\n",
            "The length of the string is: 11\n"
          ]
        }
      ],
      "source": [
        "# write your answer here\n",
        "\n",
        "# Get user input\n",
        "input_string = input(\"Enter a string: \")\n",
        "\n",
        "# Calculate the length of the string\n",
        "length = len(input_string)\n",
        "\n",
        "# Display the result\n",
        "print(\"The length of the string is:\", length)\n",
        "\n"
      ]
    },
    {
      "cell_type": "markdown",
      "metadata": {
        "id": "jJDe71iLB616"
      },
      "source": [
        "(4) Write a Python program to count the number of characters in a string.\n",
        "\n",
        "Sample String : 'google.com‘,\n",
        "\n",
        "Expected Result : {'o': 3, 'g': 2, '.': 1, 'e': 1, 'l': 1, 'm': 1, 'c': 1}"
      ]
    },
    {
      "cell_type": "code",
      "execution_count": null,
      "metadata": {
        "id": "MtKskTzbCLaU",
        "outputId": "ac8e58f4-d59c-4a19-925f-d3c9525ff10a"
      },
      "outputs": [
        {
          "name": "stdout",
          "output_type": "stream",
          "text": [
            "Enter a string: google.com\n",
            "Character counts: {'g': 2, 'o': 3, 'l': 1, 'e': 1, '.': 1, 'c': 1, 'm': 1}\n"
          ]
        }
      ],
      "source": [
        "# write your answer here\n",
        "# Get user input\n",
        "input_string = input(\"Enter a string: \")\n",
        "\n",
        "# Initialize an empty dictionary to store character counts\n",
        "char_count = {}\n",
        "\n",
        "# Count the characters in the string\n",
        "for char in input_string:\n",
        "    if char in char_count:\n",
        "        char_count[char] += 1\n",
        "    else:\n",
        "        char_count[char] = 1\n",
        "\n",
        "# Display the result\n",
        "print(\"Character counts:\", char_count)\n",
        "\n"
      ]
    },
    {
      "cell_type": "markdown",
      "metadata": {
        "id": "55W9AMdXCSpV"
      },
      "source": [
        "(5) Write a Python program to sum all the items in a list."
      ]
    },
    {
      "cell_type": "code",
      "execution_count": null,
      "metadata": {
        "id": "I57NXsauCec2",
        "outputId": "cdc146de-6ee0-4081-ff63-edaad19a1357"
      },
      "outputs": [
        {
          "name": "stdout",
          "output_type": "stream",
          "text": [
            "Enter a list of numbers separated by spaces: 5 2 4 \n",
            "The sum of the numbers is: 11.0\n"
          ]
        }
      ],
      "source": [
        "# write your answer here\n",
        "\n",
        "# Get user input for a list of numbers\n",
        "input_list = input(\"Enter a list of numbers separated by spaces: \").split()\n",
        "\n",
        "# Convert the input strings to numbers (assuming all inputs are valid numbers)\n",
        "numbers = [float(num) for num in input_list]\n",
        "\n",
        "# Calculate the sum of the numbers\n",
        "total_sum = sum(numbers)\n",
        "\n",
        "# Display the result\n",
        "print(\"The sum of the numbers is:\", total_sum)\n"
      ]
    },
    {
      "cell_type": "markdown",
      "metadata": {
        "id": "4ulBZ6yhCi9F"
      },
      "source": [
        "(6) Write a Python program to get a string from a given string where all occurrences of its first char have been changed to '\\$', except the first char itself.\n",
        "\n",
        "Sample String : 'restart‘,\n",
        "\n",
        "Expected Result : 'resta\\$t'"
      ]
    },
    {
      "cell_type": "code",
      "execution_count": null,
      "metadata": {
        "id": "Fj0XhwbBCw2o",
        "outputId": "39d3505a-c582-4091-9e59-9e065ceb8fcc"
      },
      "outputs": [
        {
          "name": "stdout",
          "output_type": "stream",
          "text": [
            "Enter a string: restart\n",
            "Modified string: resta$t\n"
          ]
        }
      ],
      "source": [
        "# write your answer here\n",
        "\n",
        "# Get user input for the string\n",
        "input_string = input(\"Enter a string: \")\n",
        "\n",
        "# Get the first character of the string\n",
        "first_char = input_string[0]\n",
        "\n",
        "# Replace all occurrences of the first character with '$' except the first occurrence\n",
        "modified_string = first_char + input_string[1:].replace(first_char, '$')\n",
        "\n",
        "# Display the modified string\n",
        "print(\"Modified string:\", modified_string)\n",
        "\n"
      ]
    },
    {
      "cell_type": "markdown",
      "metadata": {
        "id": "qVXA3q7ET5JI"
      },
      "source": [
        "(7) Create a program that calculates the factorial of a number using a while loop."
      ]
    },
    {
      "cell_type": "code",
      "execution_count": null,
      "metadata": {
        "id": "Lbt7R6UkT7BA",
        "outputId": "8823e6eb-e3f3-4341-8f63-b131965dc3db"
      },
      "outputs": [
        {
          "name": "stdout",
          "output_type": "stream",
          "text": [
            "Enter a number: 7\n",
            "The factorial of 7 is: 5040\n"
          ]
        }
      ],
      "source": [
        "# write your answer here\n",
        "\n",
        "# Get user input for the number\n",
        "number = int(input(\"Enter a number: \"))\n",
        "\n",
        "# Initialize variables\n",
        "factorial = 1\n",
        "current = 1\n",
        "\n",
        "# Calculate factorial using a while loop\n",
        "while current <= number:\n",
        "    factorial *= current\n",
        "    current += 1\n",
        "\n",
        "# Display the factorial\n",
        "print(f\"The factorial of {number} is:\", factorial)\n"
      ]
    },
    {
      "cell_type": "markdown",
      "metadata": {
        "id": "6YfbzXMNT--R"
      },
      "source": [
        "(8) Create a program that takes a list of numbers as input and outputs a new list with only the even numbers."
      ]
    },
    {
      "cell_type": "code",
      "execution_count": null,
      "metadata": {
        "id": "54q7wMQPUAKu",
        "outputId": "a8e117b6-5b72-4d68-8491-e5233ef6602d"
      },
      "outputs": [
        {
          "name": "stdout",
          "output_type": "stream",
          "text": [
            "Enter a list of numbers separated by spaces: 1 5 6 7 4 \n",
            "List of even numbers: [6, 4]\n"
          ]
        }
      ],
      "source": [
        "# write your answer here\n",
        "\n",
        "# Get user input for a list of numbers separated by spaces\n",
        "input_list = input(\"Enter a list of numbers separated by spaces: \").split()\n",
        "\n",
        "# Convert the input strings to numbers (assuming all inputs are valid numbers)\n",
        "numbers = [int(num) for num in input_list]\n",
        "\n",
        "# Create a new list with only even numbers\n",
        "even_numbers = [num for num in numbers if num % 2 == 0]\n",
        "\n",
        "# Display the list of even numbers\n",
        "print(\"List of even numbers:\", even_numbers)\n"
      ]
    },
    {
      "cell_type": "markdown",
      "metadata": {
        "id": "_bIP7s1MCzue"
      },
      "source": [
        "(9) Write a program with python which could accept two parameter a and b to calculate and output the result of S, where\n",
        "\n",
        "$\\ S=3.14*(1+a/b)^3$\n",
        "\n"
      ]
    },
    {
      "cell_type": "code",
      "execution_count": null,
      "metadata": {
        "id": "w79QilHXD3Mg",
        "outputId": "6d9ad8bc-b0ec-4357-cad0-48ac73d98f5d"
      },
      "outputs": [
        {
          "name": "stdout",
          "output_type": "stream",
          "text": [
            "Enter the value of a: 5\n",
            "Enter the value of b: 3\n",
            "The value of S is: 59.54370370370373\n"
          ]
        }
      ],
      "source": [
        "# write your answer here\n",
        "\n",
        "# Get user input for parameters a and b\n",
        "a = float(input(\"Enter the value of a: \"))\n",
        "b = float(input(\"Enter the value of b: \"))\n",
        "\n",
        "# Calculate S using the formula\n",
        "S = 3.14 * (1 + a / b) ** 3\n",
        "\n",
        "# Display the result\n",
        "print(\"The value of S is:\", S)\n"
      ]
    },
    {
      "cell_type": "markdown",
      "metadata": {
        "id": "xCa2bK9aD4Q3"
      },
      "source": [
        "(10) Write a Python program to concatenate following dictionaries to create a new one.\n",
        "\n",
        "Sample Dictionary : dic1={1:10, 2:20}, dic2={3:30, 4:40}, dic3={5:50,6:60},\n",
        "\n",
        "Expected Result : {1: 10, 2: 20, 3: 30, 4: 40, 5: 50, 6: 60}\n"
      ]
    },
    {
      "cell_type": "code",
      "execution_count": null,
      "metadata": {
        "id": "_z4aLqAbEET1",
        "outputId": "669dfd5f-c408-4b27-cb90-5aacd5217f64"
      },
      "outputs": [
        {
          "name": "stdout",
          "output_type": "stream",
          "text": [
            "Concatenated dictionary: {1: 10, 2: 20, 3: 30, 4: 40, 5: 50, 6: 60}\n"
          ]
        }
      ],
      "source": [
        "# write your answer here\n",
        "\n",
        "# Sample dictionaries\n",
        "dic1 = {1: 10, 2: 20}\n",
        "dic2 = {3: 30, 4: 40}\n",
        "dic3 = {5: 50, 6: 60}\n",
        "\n",
        "# Create a new dictionary by concatenating the given dictionaries\n",
        "result_dict = {}\n",
        "for d in (dic1, dic2, dic3):\n",
        "    result_dict.update(d)\n",
        "\n",
        "# Display the result\n",
        "print(\"Concatenated dictionary:\", result_dict)\n",
        "\n"
      ]
    },
    {
      "cell_type": "markdown",
      "metadata": {
        "id": "bkyZ2xSZUOst"
      },
      "source": [
        "(11) Write a Python function that accepts a tuple of integers and returns the largest and smallest elements."
      ]
    },
    {
      "cell_type": "code",
      "execution_count": null,
      "metadata": {
        "id": "3FdLRBKOUQEd",
        "outputId": "bdd7bf60-6e97-44c5-f344-948c2e921ab9"
      },
      "outputs": [
        {
          "name": "stdout",
          "output_type": "stream",
          "text": [
            "Smallest: 6\n",
            "Largest: 78\n"
          ]
        }
      ],
      "source": [
        "# write your answer here\n",
        "\n",
        "def find_largest_and_smallest(numbers_tuple):\n",
        "    if not numbers_tuple:\n",
        "        return None, None  # Return None for both largest and smallest if the tuple is empty\n",
        "\n",
        "    smallest = largest = numbers_tuple[0]\n",
        "\n",
        "    for num in numbers_tuple:\n",
        "        if num < smallest:\n",
        "            smallest = num\n",
        "        elif num > largest:\n",
        "            largest = num\n",
        "\n",
        "    return smallest, largest\n",
        "\n",
        "# Example usage\n",
        "numbers = (12, 45, 6, 78, 23, 9)\n",
        "smallest, largest = find_largest_and_smallest(numbers)\n",
        "print(\"Smallest:\", smallest)\n",
        "print(\"Largest:\", largest)\n"
      ]
    },
    {
      "cell_type": "markdown",
      "metadata": {
        "id": "O0TVi3gKUTpp"
      },
      "source": [
        "(12) Write a Python program that counts the frequency of each character in a given string and stores it in a dictionary."
      ]
    },
    {
      "cell_type": "code",
      "execution_count": null,
      "metadata": {
        "id": "lAtfSfZXUU-h",
        "outputId": "23b42343-36aa-48ea-90dc-a189b56be525"
      },
      "outputs": [
        {
          "name": "stdout",
          "output_type": "stream",
          "text": [
            "Enter a string: people\n",
            "Character frequency:\n",
            "'p': 2\n",
            "'e': 2\n",
            "'o': 1\n",
            "'l': 1\n"
          ]
        }
      ],
      "source": [
        "# write your answer here\n",
        "\n",
        "def count_character_frequency(input_string):\n",
        "    char_frequency = {}  # Initialize an empty dictionary\n",
        "\n",
        "    for char in input_string:\n",
        "        if char in char_frequency:\n",
        "            char_frequency[char] += 1\n",
        "        else:\n",
        "            char_frequency[char] = 1\n",
        "\n",
        "    return char_frequency\n",
        "\n",
        "# Get user input for the string\n",
        "input_string = input(\"Enter a string: \")\n",
        "\n",
        "# Calculate character frequency using the function\n",
        "frequency_dict = count_character_frequency(input_string)\n",
        "\n",
        "# Display the character frequency dictionary\n",
        "print(\"Character frequency:\")\n",
        "for char, freq in frequency_dict.items():\n",
        "    print(f\"'{char}': {freq}\")\n"
      ]
    },
    {
      "cell_type": "markdown",
      "metadata": {
        "id": "0v48Vqa7FrQh"
      },
      "source": [
        "(13) Write a Python program to check whether an element exists within a tuple."
      ]
    },
    {
      "cell_type": "code",
      "execution_count": null,
      "metadata": {
        "id": "7WEmgq-DF2P1",
        "outputId": "3736e92e-6e4c-4c23-9902-be4e497b1058"
      },
      "outputs": [
        {
          "name": "stdout",
          "output_type": "stream",
          "text": [
            "Enter an element to search for: 60\n",
            "The element 60 does not exist in the tuple.\n"
          ]
        }
      ],
      "source": [
        "# write your answer here\n",
        "\n",
        "def element_exists(element, some_tuple):\n",
        "    return element in some_tuple\n",
        "\n",
        "# Example tuple\n",
        "my_tuple = (10, 20, 30, 40, 50)\n",
        "\n",
        "# Get user input for the element to search\n",
        "search_element = int(input(\"Enter an element to search for: \"))\n",
        "\n",
        "# Check if the element exists in the tuple\n",
        "if element_exists(search_element, my_tuple):\n",
        "    print(f\"The element {search_element} exists in the tuple.\")\n",
        "else:\n",
        "    print(f\"The element {search_element} does not exist in the tuple.\")\n"
      ]
    },
    {
      "cell_type": "markdown",
      "metadata": {
        "id": "vD5PYLMuGga_"
      },
      "source": [
        "(14) Write a Python program to find maximum and the minimum value in a set."
      ]
    },
    {
      "cell_type": "code",
      "execution_count": null,
      "metadata": {
        "id": "t0D5kdJUGjjw",
        "outputId": "dc6edc2b-83f8-4d1f-f7d2-a09050b42ba6"
      },
      "outputs": [
        {
          "name": "stdout",
          "output_type": "stream",
          "text": [
            "Maximum value: 45\n",
            "Minimum value: 5\n"
          ]
        }
      ],
      "source": [
        "# write your answer here\n",
        "\n",
        "def find_max_min(input_set):\n",
        "    if not input_set:\n",
        "        return None, None  # Return None for both max and min if the set is empty\n",
        "\n",
        "    max_value = max(input_set)\n",
        "    min_value = min(input_set)\n",
        "\n",
        "    return max_value, min_value\n",
        "\n",
        "# Example set\n",
        "my_set = {15, 30, 5, 45, 20}\n",
        "\n",
        "# Calculate maximum and minimum values using the function\n",
        "max_val, min_val = find_max_min(my_set)\n",
        "\n",
        "# Display the results\n",
        "print(\"Maximum value:\", max_val)\n",
        "print(\"Minimum value:\", min_val)\n"
      ]
    },
    {
      "cell_type": "markdown",
      "metadata": {
        "id": "uHkd-y5VhVWC"
      },
      "source": [
        "(15) Write a Python program to randomly divide the students in this class into six groups for term projects, each group should have at least 4 students but no more than 6 students (including 6). Here is the students list:\n",
        "student_list_fall_2023=['sb1826' ,\n",
        " 'lb0582' ,\n",
        " 'ab1820' ,\n",
        " 'sb1883' ,\n",
        " 'mb1296' ,\n",
        " 'sc1622' ,\n",
        " 'tc0469' ,\n",
        " 'ac1770' ,\n",
        " 'mc1453' ,\n",
        " 'ad1187' ,\n",
        " 'sd0926' ,\n",
        " 'sd1268' ,\n",
        " 'ag1609' ,\n",
        " 'sg1638' ,\n",
        " 'mg1299' ,\n",
        " 'vkk0022' ,\n",
        " 'bk0413' ,\n",
        " 'gk0257' ,\n",
        " 'am2807' ,\n",
        " 'gm0558' ,\n",
        " 'pm0658' ,\n",
        " 'am2346' ,\n",
        " 'rm1090' ,\n",
        " 'sm2364' ,\n",
        " 'sm2747' ,\n",
        " 'sm2343' ,\n",
        " 'vm0597' ,\n",
        " 'htn0086' ,\n",
        " 'sp2075' ,\n",
        " 'gp0306' ,\n",
        " 'lp0502' ,\n",
        " 'sr1508' ,\n",
        " 'vr0331' ,\n",
        " 'yr0180' ,\n",
        " 'as2819' ,\n",
        " 'ss2981' ,\n",
        " 'ns0756' ,\n",
        " 'mt0825' ,\n",
        " 'dt0463' ,\n",
        " 'su0137' ,\n",
        " 'dv0310'\n",
        "]"
      ]
    },
    {
      "cell_type": "code",
      "execution_count": null,
      "metadata": {
        "id": "3iGbmcOBhTwy",
        "outputId": "c9094c0e-f841-4db1-f3ca-938b5b91eacb"
      },
      "outputs": [
        {
          "name": "stdout",
          "output_type": "stream",
          "text": [
            "Group 1: ab1820, sb1826, mg1299, ns0756, gm0558, dt0463\n",
            "Group 2: mc1453, gp0306, am2346, bk0413\n",
            "Group 3: ag1609, htn0086, tc0469, as2819\n",
            "Group 4: pm0658, mt0825, gk0257, sc1622, dv0310\n",
            "Group 5: sd1268, sr1508, sg1638, mb1296\n",
            "Group 6: su0137, lb0582, ac1770, ss2981, sm2747, sp2075\n",
            "Group 7: yr0180, vkk0022, am2807, vr0331\n",
            "Group 8: sb1883, vm0597, ad1187, lp0502, rm1090, sd0926\n",
            "Group 9: sm2364, sm2343\n"
          ]
        }
      ],
      "source": [
        "# write your answer here\n",
        "\n",
        "\n",
        "import random\n",
        "\n",
        "# List of students\n",
        "student_list_fall_2023 = ['sb1826', 'lb0582', 'ab1820', 'sb1883', 'mb1296', 'sc1622', 'tc0469', 'ac1770', 'mc1453', 'ad1187',\n",
        "                           'sd0926', 'sd1268', 'ag1609', 'sg1638', 'mg1299', 'vkk0022', 'bk0413', 'gk0257', 'am2807', 'gm0558',\n",
        "                           'pm0658', 'am2346', 'rm1090', 'sm2364', 'sm2747', 'sm2343', 'vm0597', 'htn0086', 'sp2075', 'gp0306',\n",
        "                           'lp0502', 'sr1508', 'vr0331', 'yr0180', 'as2819', 'ss2981', 'ns0756', 'mt0825', 'dt0463', 'su0137', 'dv0310']\n",
        "\n",
        "# Shuffle the student list randomly\n",
        "random.shuffle(student_list_fall_2023)\n",
        "\n",
        "# Divide students into groups\n",
        "groups = []\n",
        "group_size_range = range(4, 7)  # Group size between 4 and 6 (inclusive)\n",
        "\n",
        "while student_list_fall_2023:\n",
        "    group_size = random.choice(group_size_range)\n",
        "    group = []\n",
        "\n",
        "    for _ in range(group_size):\n",
        "        if student_list_fall_2023:\n",
        "            student = student_list_fall_2023.pop()\n",
        "            group.append(student)\n",
        "\n",
        "    groups.append(group)\n",
        "\n",
        "# Display the groups\n",
        "for i, group in enumerate(groups, start=1):\n",
        "    print(f\"Group {i}: {', '.join(group)}\")\n",
        "\n",
        ""
      ]
    },
    {
      "cell_type": "markdown",
      "metadata": {
        "id": "fmZ9vX20Qs3d"
      },
      "source": [
        "(16) Write a Python program to find the duplicate elements in a given array of integers. Return -1 If there are no such elements."
      ]
    },
    {
      "cell_type": "code",
      "execution_count": null,
      "metadata": {
        "id": "W8Jw6sWMQs3d",
        "outputId": "0f58214c-4bf3-453f-dd86-06f308b1b152"
      },
      "outputs": [
        {
          "name": "stdout",
          "output_type": "stream",
          "text": [
            "Enter an array of integers separated by spaces: 1 5 7 1 0\n",
            "Duplicate elements: [1]\n"
          ]
        }
      ],
      "source": [
        "# write your answer here\n",
        "\n",
        "def find_duplicate_elements(nums):\n",
        "    seen = set()\n",
        "    duplicates = set()\n",
        "\n",
        "    for num in nums:\n",
        "        if num in seen:\n",
        "            duplicates.add(num)\n",
        "        else:\n",
        "            seen.add(num)\n",
        "\n",
        "    return list(duplicates) if duplicates else -1\n",
        "\n",
        "# Get user input for the array of integers\n",
        "input_str = input(\"Enter an array of integers separated by spaces: \")\n",
        "nums = list(map(int, input_str.split()))\n",
        "\n",
        "# Find duplicate elements using the function\n",
        "duplicate_elements = find_duplicate_elements(nums)\n",
        "\n",
        "# Display the result\n",
        "if duplicate_elements == -1:\n",
        "    print(\"No duplicate elements found.\")\n",
        "else:\n",
        "    print(\"Duplicate elements:\", duplicate_elements)\n"
      ]
    },
    {
      "cell_type": "markdown",
      "metadata": {
        "id": "hvq4APMhQs3d"
      },
      "source": [
        "(17) Write a Python program to select all the Sundays of a specified year."
      ]
    },
    {
      "cell_type": "code",
      "execution_count": null,
      "metadata": {
        "id": "ZnoxhSglQs3d",
        "outputId": "c242f577-0502-45f8-c82c-8415e1a7931e"
      },
      "outputs": [
        {
          "name": "stdout",
          "output_type": "stream",
          "text": [
            "Enter a year: 2023\n",
            "Sundays in 2023:\n",
            "2023-01-01\n",
            "2023-01-08\n",
            "2023-01-15\n",
            "2023-01-22\n",
            "2023-01-29\n",
            "2023-02-05\n",
            "2023-02-12\n",
            "2023-02-19\n",
            "2023-02-26\n",
            "2023-03-05\n",
            "2023-03-12\n",
            "2023-03-19\n",
            "2023-03-26\n",
            "2023-04-02\n",
            "2023-04-09\n",
            "2023-04-16\n",
            "2023-04-23\n",
            "2023-04-30\n",
            "2023-05-07\n",
            "2023-05-14\n",
            "2023-05-21\n",
            "2023-05-28\n",
            "2023-06-04\n",
            "2023-06-11\n",
            "2023-06-18\n",
            "2023-06-25\n",
            "2023-07-02\n",
            "2023-07-09\n",
            "2023-07-16\n",
            "2023-07-23\n",
            "2023-07-30\n",
            "2023-08-06\n",
            "2023-08-13\n",
            "2023-08-20\n",
            "2023-08-27\n",
            "2023-09-03\n",
            "2023-09-10\n",
            "2023-09-17\n",
            "2023-09-24\n",
            "2023-10-01\n",
            "2023-10-08\n",
            "2023-10-15\n",
            "2023-10-22\n",
            "2023-10-29\n",
            "2023-11-05\n",
            "2023-11-12\n",
            "2023-11-19\n",
            "2023-11-26\n",
            "2023-12-03\n",
            "2023-12-10\n",
            "2023-12-17\n",
            "2023-12-24\n",
            "2023-12-31\n"
          ]
        }
      ],
      "source": [
        "# write your answer here\n",
        "\n",
        "\n",
        "import calendar\n",
        "\n",
        "def find_sundays(year):\n",
        "    sundays = []\n",
        "\n",
        "    for month in range(1, 13):  # Loop through each month\n",
        "        for day in range(1, calendar.monthrange(year, month)[1] + 1):  # Loop through each day in the month\n",
        "            if calendar.weekday(year, month, day) == calendar.SUNDAY:  # Check if the day is a Sunday\n",
        "                sundays.append(f\"{year}-{month:02d}-{day:02d}\")  # Add the Sunday to the list\n",
        "\n",
        "    return sundays\n",
        "\n",
        "# Get user input for the year\n",
        "year = int(input(\"Enter a year: \"))\n",
        "\n",
        "# Find Sundays using the function\n",
        "sundays = find_sundays(year)\n",
        "\n",
        "# Display the list of Sundays\n",
        "if sundays:\n",
        "    print(f\"Sundays in {year}:\")\n",
        "    for sunday in sundays:\n",
        "        print(sunday)\n",
        "else:\n",
        "    print(f\"No Sundays found in {year}.\")\n"
      ]
    },
    {
      "cell_type": "markdown",
      "metadata": {
        "id": "55FWoSJPVVM6"
      },
      "source": [
        "(18) Build a program that calculates the factorial of a given positive integer. The factorial of a non-negative integer n is the product of all positive integers less than or equal to n."
      ]
    },
    {
      "cell_type": "code",
      "execution_count": null,
      "metadata": {
        "id": "hwtr1wZmVX5A",
        "outputId": "94bf5691-6559-4498-c65a-105e132b0e31"
      },
      "outputs": [
        {
          "name": "stdout",
          "output_type": "stream",
          "text": [
            "Enter a positive integer: 5\n",
            "The factorial of 5 is: 120\n"
          ]
        }
      ],
      "source": [
        "# write your answer here\n",
        "\n",
        "def calculate_factorial(n):\n",
        "    if n == 0 or n == 1:\n",
        "        return 1\n",
        "    else:\n",
        "        return n * calculate_factorial(n - 1)\n",
        "\n",
        "# Get user input for a positive integer\n",
        "n = int(input(\"Enter a positive integer: \"))\n",
        "\n",
        "if n < 0:\n",
        "    print(\"Factorial is not defined for negative integers.\")\n",
        "else:\n",
        "    factorial = calculate_factorial(n)\n",
        "    print(f\"The factorial of {n} is:\", factorial)\n"
      ]
    },
    {
      "cell_type": "markdown",
      "metadata": {
        "id": "Q9ecagcaVazW"
      },
      "source": [
        "(19) Write a program that takes a positive integer n as input and prints the count of even numbers from 1 to n. Use a loop to iterate through the numbers and utilize the break statement to optimize the loop."
      ]
    },
    {
      "cell_type": "code",
      "execution_count": null,
      "metadata": {
        "id": "gycgckoAVZjR",
        "outputId": "07a19ba7-a2ba-4f5a-b82e-f54ce7895a3c"
      },
      "outputs": [
        {
          "name": "stdout",
          "output_type": "stream",
          "text": [
            "Enter a positive integer: 2\n",
            "The count of even numbers from 1 to 2 is: 1\n"
          ]
        }
      ],
      "source": [
        "# write your answer here\n",
        "\n",
        "# Get user input for a positive integer\n",
        "n = int(input(\"Enter a positive integer: \"))\n",
        "\n",
        "# Initialize a variable to count even numbers\n",
        "even_count = 0\n",
        "\n",
        "# Iterate through the numbers using a loop and utilize break to optimize\n",
        "for num in range(1, n + 1):\n",
        "    if num % 2 == 0:\n",
        "        even_count += 1\n",
        "    elif num > n:  # Break the loop if num becomes greater than n\n",
        "        break\n",
        "\n",
        "# Display the count of even numbers\n",
        "print(f\"The count of even numbers from 1 to {n} is:\", even_count)\n",
        "\n",
        "\n"
      ]
    },
    {
      "cell_type": "markdown",
      "metadata": {
        "id": "cboAr5pEWUf5"
      },
      "source": [
        "(20) Write a Python function called count_vowels that takes a string as input and returns the count of vowels (both lowercase and uppercase) present in the string. Consider the vowels to be 'a', 'e', 'i', 'o', and 'u'. Ignore spaces and other non-alphabetic characters."
      ]
    },
    {
      "cell_type": "code",
      "execution_count": null,
      "metadata": {
        "id": "phs9gciMWWAW",
        "outputId": "6bcdc0b3-c067-4341-b6e5-edc7865393fc"
      },
      "outputs": [
        {
          "name": "stdout",
          "output_type": "stream",
          "text": [
            "Enter a string: insurance\n",
            "Count of vowels: 4\n"
          ]
        }
      ],
      "source": [
        "# write your answer here\n",
        "\n",
        "def count_vowels(input_string):\n",
        "    vowels = \"aeiouAEIOU\"\n",
        "    vowel_count = 0\n",
        "\n",
        "    for char in input_string:\n",
        "        if char in vowels:\n",
        "            vowel_count += 1\n",
        "\n",
        "    return vowel_count\n",
        "\n",
        "# Get user input for the string\n",
        "input_str = input(\"Enter a string: \")\n",
        "\n",
        "# Calculate vowel count using the function\n",
        "vowel_count = count_vowels(input_str)\n",
        "\n",
        "# Display the result\n",
        "print(\"Count of vowels:\", vowel_count)\n",
        "\n"
      ]
    },
    {
      "cell_type": "code",
      "execution_count": null,
      "metadata": {
        "id": "74uUJzMyLN7g"
      },
      "outputs": [],
      "source": []
    }
  ],
  "metadata": {
    "colab": {
      "provenance": [],
      "include_colab_link": true
    },
    "kernelspec": {
      "display_name": "Python 3",
      "language": "python",
      "name": "python3"
    },
    "language_info": {
      "codemirror_mode": {
        "name": "ipython",
        "version": 3
      },
      "file_extension": ".py",
      "mimetype": "text/x-python",
      "name": "python",
      "nbconvert_exporter": "python",
      "pygments_lexer": "ipython3",
      "version": "3.8.8"
    }
  },
  "nbformat": 4,
  "nbformat_minor": 0
}